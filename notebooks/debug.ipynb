{
 "cells": [
  {
   "cell_type": "code",
   "execution_count": null,
   "metadata": {
    "collapsed": true
   },
   "outputs": [],
   "source": [
    "%load_ext autoreload\n",
    "%autoreload 2"
   ]
  },
  {
   "cell_type": "code",
   "execution_count": null,
   "metadata": {
    "collapsed": true
   },
   "outputs": [],
   "source": [
    "from aflow.entries import Entry"
   ]
  },
  {
   "cell_type": "code",
   "execution_count": null,
   "metadata": {
    "collapsed": true
   },
   "outputs": [],
   "source": [
    "a = {\n",
    "    \"compound\": \"Be2O2\",\n",
    "    \"auid\":\"aflow:ed51b7b3938f117f\",\n",
    "    \"aurl\":\"aflowlib.duke.edu:AFLOWDATA/ICSD_WEB/HEX/Be1O1_ICSD_15620\",\n",
    "    \"agl_thermal_conductivity_300K\":\"53.361\",\n",
    "    \"Egap\":\"7.4494\"\n",
    "}\n",
    "A = Entry(**a)"
   ]
  },
  {
   "cell_type": "code",
   "execution_count": null,
   "metadata": {},
   "outputs": [],
   "source": [
    "A.kpoints"
   ]
  },
  {
   "cell_type": "code",
   "execution_count": null,
   "metadata": {
    "collapsed": true
   },
   "outputs": [],
   "source": [
    "from aflow.caster import _kpoints"
   ]
  },
  {
   "cell_type": "code",
   "execution_count": null,
   "metadata": {},
   "outputs": [],
   "source": [
    "_kpoints(\"16,16,8;17,17,9;\\Gamma-M,M-K,K-\\Gamma,\\Gamma-A,A-L,L-H,H-A,L-M,K-H;20\")"
   ]
  },
  {
   "cell_type": "code",
   "execution_count": null,
   "metadata": {
    "collapsed": true
   },
   "outputs": [],
   "source": [
    "from aflow.keywords import *"
   ]
  },
  {
   "cell_type": "code",
   "execution_count": null,
   "metadata": {
    "collapsed": true
   },
   "outputs": [],
   "source": [
    "from aflow.keywords import reset\n",
    "reset()"
   ]
  },
  {
   "cell_type": "code",
   "execution_count": null,
   "metadata": {
    "collapsed": true
   },
   "outputs": [],
   "source": [
    "k = ((Egap > 6) | (Egap < 21)) & (PV_cell < 13)"
   ]
  },
  {
   "cell_type": "code",
   "execution_count": null,
   "metadata": {
    "collapsed": true
   },
   "outputs": [],
   "source": [
    "reset()\n",
    "k1 = ((Egap > 6) | (Egap < 21)) & ((PV_cell < 13) | (PV_cell > 2))"
   ]
  },
  {
   "cell_type": "code",
   "execution_count": null,
   "metadata": {},
   "outputs": [],
   "source": [
    "str(k1)"
   ]
  },
  {
   "cell_type": "code",
   "execution_count": null,
   "metadata": {
    "collapsed": true
   },
   "outputs": [],
   "source": [
    "reset()"
   ]
  },
  {
   "cell_type": "code",
   "execution_count": null,
   "metadata": {
    "collapsed": true
   },
   "outputs": [],
   "source": [
    "k3 = ((Egap > 0) & (Egap < 2) | (Egap == 5))"
   ]
  },
  {
   "cell_type": "code",
   "execution_count": null,
   "metadata": {},
   "outputs": [],
   "source": [
    "str(k3)"
   ]
  },
  {
   "cell_type": "code",
   "execution_count": null,
   "metadata": {},
   "outputs": [],
   "source": [
    "str(PV_cell)"
   ]
  },
  {
   "cell_type": "code",
   "execution_count": null,
   "metadata": {},
   "outputs": [],
   "source": [
    "str(~PV_cell)"
   ]
  },
  {
   "cell_type": "code",
   "execution_count": null,
   "metadata": {},
   "outputs": [],
   "source": [
    "str(PV_cell)"
   ]
  },
  {
   "cell_type": "code",
   "execution_count": null,
   "metadata": {
    "collapsed": true
   },
   "outputs": [],
   "source": [
    "k = (author == 'stefano') | (species % 'Si')"
   ]
  },
  {
   "cell_type": "code",
   "execution_count": null,
   "metadata": {},
   "outputs": [],
   "source": [
    "str(k)"
   ]
  },
  {
   "cell_type": "code",
   "execution_count": null,
   "metadata": {
    "collapsed": true
   },
   "outputs": [],
   "source": [
    "reset()"
   ]
  },
  {
   "cell_type": "code",
   "execution_count": null,
   "metadata": {
    "collapsed": true
   },
   "outputs": [],
   "source": [
    "k2 = (author > 'aflow') & (species < 'Ag')"
   ]
  },
  {
   "cell_type": "code",
   "execution_count": null,
   "metadata": {},
   "outputs": [],
   "source": [
    "str(k2)"
   ]
  },
  {
   "cell_type": "code",
   "execution_count": null,
   "metadata": {},
   "outputs": [],
   "source": [
    "%load_ext autoreload\n",
    "%autoreload 2"
   ]
  },
  {
   "cell_type": "code",
   "execution_count": null,
   "metadata": {
    "collapsed": true
   },
   "outputs": [],
   "source": [
    "import aflow\n",
    "from aflow.keywords import *"
   ]
  },
  {
   "cell_type": "code",
   "execution_count": null,
   "metadata": {
    "collapsed": true
   },
   "outputs": [],
   "source": [
    "Si = aflow.search(catalog=\"icsd\").filter(species == 'Si').select(positions_cartesian)"
   ]
  },
  {
   "cell_type": "code",
   "execution_count": null,
   "metadata": {},
   "outputs": [],
   "source": [
    "for i, entry in enumerate(Si[90:110]):\n",
    "    print(i, entry.aurl)"
   ]
  },
  {
   "cell_type": "code",
   "execution_count": null,
   "metadata": {},
   "outputs": [],
   "source": [
    "sorted(Si.responses[2].keys())"
   ]
  },
  {
   "cell_type": "code",
   "execution_count": null,
   "metadata": {
    "collapsed": true
   },
   "outputs": [],
   "source": [
    "sisl = Si[0:10]"
   ]
  },
  {
   "cell_type": "code",
   "execution_count": null,
   "metadata": {},
   "outputs": [],
   "source": [
    "sisl._iter"
   ]
  },
  {
   "cell_type": "code",
   "execution_count": null,
   "metadata": {},
   "outputs": [],
   "source": [
    "sisl._iter, sisl._max_entry"
   ]
  },
  {
   "cell_type": "code",
   "execution_count": null,
   "metadata": {},
   "outputs": [],
   "source": [
    "len(Si.responses)"
   ]
  },
  {
   "cell_type": "code",
   "execution_count": null,
   "metadata": {},
   "outputs": [],
   "source": [
    "for entry in sisl:\n",
    "    print(entry.positions_cartesian)"
   ]
  },
  {
   "cell_type": "code",
   "execution_count": null,
   "metadata": {
    "collapsed": true
   },
   "outputs": [],
   "source": [
    "ss = slice(0, 10)"
   ]
  },
  {
   "cell_type": "code",
   "execution_count": null,
   "metadata": {},
   "outputs": [],
   "source": [
    "ss."
   ]
  },
  {
   "cell_type": "code",
   "execution_count": null,
   "metadata": {},
   "outputs": [],
   "source": [
    "import json\n",
    "keys = json.loads(\"\"\"{\"__schema^2__\":{\"__comment__\":[\"The zeroth element of any object or array in this document is meta.\",\"If last element is null, element parent considered optional.\",\"If last element is '.', element value can be anything.\",\"If last element is '', element value can be nothing.\",\"This document is the AAPI schema, it is self validating and order sensitive.\",\".\"],\"class\":[\"intended for document organization, defines major section. Must be one of\",\"API only\",\"chemistry\",\"crystal\",\"electronics\",\"thermodynamics\",\"magnetics\",\"scintillation\",\"mechanical\",\"optical properties\",\"other\",\"calculation\"],\"delimiter\":[\"An ordered set of single character seperators for distinguishing plural type property values\",null],\"description\":[\"intended for popup help boxes, describes the current property: freeform text\",\".\"],\"example\":[\"Actual result that may occur in API or search context, developmental: structured text\",\".\"],\"expression\":[\"intended for materials reports, developmental. Must be one of\",\"declarative\",\"directive\",\"derivative\"],\"format\":[\"intended for printf style formating of property value: corresponds to the type attribute\",\".\"],\"inclusion\":[\"intended for search filters and materials reports. Must be one of\",\"mandatory\",\"conditional\",\"optional\",\"forbidden\"],\"search\":[[\"intended for search and stat, Must be one of\",\"equals -> exact match input (select or freeform) to value\",\"contains -> substring match (select or freeform) in value\",\"range ->   bounded match (select or freeform) in value\"],\"equals\",\"contains\",\"range\",null],\"status\":[\"Development stage of property. Must be one of\",\"production\",\"development\",\"deprecated\",\"reserved\"],\"subclass\":[\"intended for document organization, defines minor section\",\"label\",\"calculation parameters\",\"computational resources\",\"version\",\"provenance\",\"real space lattice\",\"bravais lattice of the crystal\",\"point group of the crystal\",\"bravais lattice of the lattice\",\"super lattice\",\"reciprocal space lattice\",\"space group\",\"parameters\",\"\"],\"syntax\":[\"Actual setting that may be used in API or search context, developmental: structured text\",\".\"],\"title\":[\"intended for labeling property in document rendering: freeform text (HTML?)\",\".\"],\"type\":[\"intended for DB and document type handling: must be one of\",\"string\",\"strings\",\"number\",\"numbers\"],\"units\":[\"units for search filter number in HTML: optional\",null],\"verification\":[\"Optional list of property references designed to certify that the result is contextually relevant.\",null]},\"Bravais_lattice_orig\":{\"__comment__\":[\"\"],\"description\":\"Returns the Bravais lattice of the original unrelaxed structure before the calculation.\",\"title\":\"original bravais lattice\",\"format\":\"%s\",\"class\":\"crystal\",\"subclass\":\"bravais lattice of the crystal\",\"type\":\"string\",\"inclusion\":\"optional\",\"expression\":\"declarative\",\"example\":\"Bravais_lattice_orig=MCLC\",\"status\":\"production\",\"syntax\":\"$aurl/?Bravais_lattice_orig\"},\"Bravais_lattice_relax\":{\"__comment__\":[\"\"],\"description\":\"Returns the Bravais lattice of the original relaxed structure after the calculation.\",\"title\":\"relaxed bravais lattice\",\"format\":\"%s\",\"class\":\"crystal\",\"subclass\":\"bravais lattice of the crystal\",\"type\":\"string\",\"inclusion\":\"optional\",\"expression\":\"derivative\",\"verification\":[\"energy_cutoff\",\"forces\",\"kpoints\",\"stress_tensor\"],\"example\":\"Bravais_lattice_relax=MCLC\",\"status\":\"production\",\"syntax\":\"$aurl/?Bravais_lattice_relax\"},\"Egap\":{\"__comment__\":[\"\"],\"description\":\"Band gap calculated with the approximations and pseudopotentials described by other keywords.\",\"title\":\"energy gap\",\"format\":\"%s\",\"class\":\"electronics\",\"subclass\":\"\",\"type\":\"number\",\"units\":\"eV\",\"inclusion\":\"mandatory\",\"expression\":\"derivative\",\"verification\":[\"energy_cutoff\",\"kpoints\"],\"example\":\"Egap=2.5\",\"status\":\"production\",\"syntax\":\"$aurl/?Egap\"},\"Egap_fit\":{\"__comment__\":[\"\"],\"description\":\"Simple cross-validated correction (fit) of Egap.\",\"title\":\"fitted band gap\",\"format\":\"%s\",\"class\":\"electronics\",\"subclass\":\"\",\"type\":\"number\",\"units\":\"eV\",\"inclusion\":\"mandatory\",\"expression\":\"derivative\",\"verification\":[\"energy_cutoff\",\"kpoints\"],\"example\":\"Egap_fit=3.5\",\"status\":\"production\",\"syntax\":\"$aurl/?Egap_fit\"},\"Egap_type\":{\"__comment__\":[\"\"],\"description\":\"Given a band gap, this keyword describes if the system is a metal, a semi-metal, an insulator with direct or indirect band gap.\",\"title\":\"band gap type\",\"format\":\"%s\",\"class\":\"electronics\",\"subclass\":\"\",\"type\":\"string\",\"inclusion\":\"mandatory\",\"expression\":\"derivative\",\"verification\":[\"energy_cutoff\",\"kpoints\"],\"example\":\"Egap_type=insulator_direct\",\"status\":\"production\",\"syntax\":\"$aurl/?Egap_type\"},\"PV_atom\":{\"__comment__\":[\"\"],\"description\":\"Pressure multiplied by volume of the atom.\",\"title\":\"atomic pressure*volume\",\"format\":\"%s\",\"class\":\"mechanical\",\"subclass\":\"\",\"type\":\"number\",\"units\":\"eV/atom\",\"inclusion\":\"mandatory\",\"expression\":\"derivative\",\"verification\":[\"energy_cutoff\",\"kpoints\"],\"example\":\"PV_atom=12.13\",\"status\":\"production\",\"syntax\":\"$aurl/?PV_atom\"},\"PV_cell\":{\"__comment__\":[\"\"],\"description\":\"Pressure multiplied by volume of the unit cell.\",\"title\":\"unit cell pressure*volume\",\"format\":\"%s\",\"class\":\"mechanical\",\"subclass\":\"\",\"type\":\"number\",\"units\":\"eV\",\"inclusion\":\"mandatory\",\"expression\":\"derivative\",\"verification\":[\"energy_cutoff\",\"kpoints\"],\"example\":\"PV_cell=12.13\",\"status\":\"production\",\"syntax\":\"$aurl/?PV_cell\"},\"Pearson_symbol_orig\":{\"__comment__\":[\"\"],\"description\":\"Returns the Pearson symbol of the original-unrelaxed structure before the calculation.\",\"title\":\"original pearson symbol\",\"format\":\"%s\",\"class\":\"crystal\",\"subclass\":\"bravais lattice of the crystal\",\"type\":\"string\",\"inclusion\":\"mandatory\",\"expression\":\"declarative\",\"example\":\"Pearson_symbol_orig=mS32\",\"status\":\"production\",\"syntax\":\"$aurl/?Pearson_symbol_orig\"},\"Pearson_symbol_relax\":{\"__comment__\":[\"\"],\"description\":\"Returns the Pearson symbol of the relaxed structure after the calculation.\",\"title\":\"relaxed pearson symbol\",\"format\":\"%s\",\"class\":\"crystal\",\"subclass\":\"bravais lattice of the crystal\",\"type\":\"string\",\"inclusion\":\"mandatory\",\"expression\":\"derivative\",\"verification\":[\"stress_tensor\"],\"example\":\"Pearson_symbol_relax=mS32\",\"status\":\"production\",\"syntax\":\"$aurl/?Pearson_symbol_relax\"},\"Pulay_stress\":{\"__comment__\":[\"\"],\"description\":\"Returns a metric of the basis set inconsistency for the calculation.\",\"title\":\"Pulay Stress\",\"format\":\"%s\",\"class\":\"mechanical\",\"subclass\":\"\",\"type\":\"number\",\"units\":\"kbar\",\"inclusion\":\"mandatory\",\"expression\":\"derivative\",\"example\":\"pulay_stress=10.0\",\"status\":\"development\",\"syntax\":\"$aurl/?pulay_stress\"},\"Pullay_stress\":{\"__comment__\":[\"\"],\"description\":\"Returns a metric of the basis set inconsistency for the calculation.\",\"title\":\"Pulay Stress\",\"format\":\"%s\",\"class\":\"mechanical\",\"subclass\":\"\",\"type\":\"number\",\"units\":\"kbar\",\"inclusion\":\"mandatory\",\"expression\":\"derivative\",\"example\":\"Pullay_stress=10.0\",\"status\":\"deprecated\",\"syntax\":\"$aurl/?Pullay_stress\"},\"ael_bulk_modulus_reuss\":{\"__comment__\":[\"\"],\"description\":\"Returns the bulk modulus as calculated using the Reuss method with AEL.\",\"title\":\"AEL Reuss bulk modulus\",\"format\":\"%s\",\"class\":\"mechanical\",\"subclass\":\"\",\"type\":\"number\",\"units\":\"GPa\",\"inclusion\":\"optional\",\"expression\":\"derivative\",\"verification\":[\"energy_cutoff\",\"kpoints\"],\"example\":\"ael_bulk_modulus_reuss=105.315\",\"status\":\"production\",\"syntax\":\"$aurl/?ael_bulk_modulus_reuss\"},\"ael_bulk_modulus_voigt\":{\"__comment__\":[\"\"],\"description\":\"Returns the bulk modulus as calculated using the Voigt method with AEL.\",\"title\":\"AEL Voigt bulk modulus\",\"format\":\"%s\",\"class\":\"mechanical\",\"subclass\":\"\",\"type\":\"number\",\"units\":\"GPa\",\"inclusion\":\"optional\",\"expression\":\"derivative\",\"verification\":[\"energy_cutoff\",\"kpoints\"],\"example\":\"ael_bulk_modulus_voiht=105.315\",\"status\":\"production\",\"syntax\":\"$aurl/?ael_bulk_modulus_voigt\"},\"ael_bulk_modulus_vrh\":{\"__comment__\":[\"\"],\"description\":\"Returns the bulk modulus as calculated using the Voigt-Reuss-Hill average with AEL.\",\"title\":\"AEL VRH bulk modulus\",\"format\":\"%s\",\"class\":\"mechanical\",\"subclass\":\"\",\"type\":\"number\",\"units\":\"GPa\",\"inclusion\":\"optional\",\"expression\":\"derivative\",\"verification\":[\"energy_cutoff\",\"kpoints\"],\"example\":\"ael_bulk_modulus_vrh=105.315\",\"status\":\"production\",\"syntax\":\"$aurl/?ael_bulk_modulus_vrh\"},\"ael_elastic_anisotropy\":{\"__comment__\":[\"\"],\"description\":\"Returns the elastic anisotropy as calculated with AEL.\",\"title\":\"AEL elastic anisotropy\",\"format\":\"%s\",\"class\":\"mechanical\",\"subclass\":\"\",\"type\":\"number\",\"inclusion\":\"optional\",\"expression\":\"derivative\",\"verification\":[\"energy_cutoff\",\"kpoints\"],\"example\":\"ael_elastic_anisotropy=0.0008165\",\"status\":\"production\",\"syntax\":\"$aurl/?ael_elastic_anisotropy\"},\"ael_poisson_ratio\":{\"__comment__\":[\"\"],\"description\":\"Returns the istropic Poisson ratio as calculated with AEL.\",\"title\":\"AEL Poisson ratio\",\"format\":\"%s\",\"class\":\"mechanical\",\"subclass\":\"\",\"type\":\"number\",\"inclusion\":\"optional\",\"expression\":\"derivative\",\"verification\":[\"energy_cutoff\",\"kpoints\"],\"example\":\"ael_poisson_ratio=0.216\",\"status\":\"production\",\"syntax\":\"$aurl/?ael_poisson_ratio\"},\"ael_shear_modulus_reuss\":{\"__comment__\":[\"\"],\"description\":\"Returns the shear modulus as calculated using the Reuss method with AEL.\",\"title\":\"AEL Reuss shear modulus\",\"format\":\"%s\",\"class\":\"mechanical\",\"subclass\":\"\",\"type\":\"number\",\"units\":\"GPa\",\"inclusion\":\"optional\",\"expression\":\"derivative\",\"verification\":[\"energy_cutoff\",\"kpoints\"],\"example\":\"ael_shear_modulus_reuss=73.787\",\"status\":\"production\",\"syntax\":\"$aurl/?ael_shear_modulus_reuss\"},\"ael_shear_modulus_voigt\":{\"__comment__\":[\"\"],\"description\":\"Returns the shear modulus as calculated using the Voigt method with AEL.\",\"title\":\"AEL Voigt shear modulus\",\"format\":\"%s\",\"class\":\"mechanical\",\"subclass\":\"\",\"type\":\"number\",\"units\":\"GPa\",\"inclusion\":\"optional\",\"expression\":\"derivative\",\"verification\":[\"energy_cutoff\",\"kpoints\"],\"example\":\"ael_shear_modulus_voigt=73.799\",\"status\":\"production\",\"syntax\":\"$aurl/?ael_shear_modulus_voigt\"},\"ael_shear_modulus_vrh\":{\"__comment__\":[\"\"],\"description\":\"Returns the shear modulus as calculated using the Voigt-Reuss-Hill average with AEL.\",\"title\":\"AEL VRH shear modulus\",\"format\":\"%s\",\"class\":\"mechanical\",\"subclass\":\"\",\"type\":\"number\",\"units\":\"GPa\",\"inclusion\":\"optional\",\"expression\":\"derivative\",\"verification\":[\"energy_cutoff\",\"kpoints\"],\"example\":\"ael_shear_modulus_vrh=73.793\",\"status\":\"production\",\"syntax\":\"$aurl/?ael_shear_modulus_vrh\"},\"aflow_version\":{\"__comment__\":[\"\"],\"description\":\"Returns the version number of AFLOW used to perform the calculation.\",\"title\":\"aflow version\",\"format\":\"%s\",\"class\":\"calculation\",\"subclass\":\"version\",\"type\":\"string\",\"inclusion\":\"optional\",\"expression\":\"declarative\",\"example\":\"aflow_version=aflow30641\",\"status\":\"production\",\"syntax\":\"$aurl/?aflow_version\"},\"aflowlib_date\":{\"__comment__\":[\"\"],\"description\":\"Returns the date of the AFLOW post-processor which generated the entry for the library.\",\"title\":\"material generation date\",\"format\":\"%s\",\"class\":\"calculation\",\"subclass\":\"version\",\"type\":\"string\",\"inclusion\":\"optional\",\"expression\":\"declarative\",\"example\":\"aflowlib_date=20140204_13:10:39_GMT-5\",\"status\":\"production\",\"syntax\":\"$aurl/?aflowlib_date\"},\"aflowlib_entries\":{\"__comment__\":[\"\"],\"description\":\"For projects and set-layer entries, aflowlib_entries lists the available sub-entries which are associated with the $aurl of the subdirectories.  By parsing $aurl/?aflowlib_entries (containing $aurl/aflowlib_entries_number entries) the user finds further locations to interrogate.\",\"title\":\"aflowlib entries\",\"format\":\"%s\",\"class\":\"API only\",\"subclass\":\"\",\"type\":\"strings\",\"delimiter\":\",\",\"inclusion\":\"conditional\",\"expression\":\"directive\",\"example\":\"aflowlib_entries=AgAl,AgAs,AgAu,AgB_h,AgBa_sv,AgBe_sv,AgBi_d,AgBr,AgCa_sv,...\",\"status\":\"production\",\"syntax\":\"$aurl/?aflowlib_entries\"},\"aflowlib_entries_number\":{\"__comment__\":[\"\"],\"description\":\"For projects and set-layer entries, aflowlib_entrieslists the available sub-entries which are associated with the $aurl of the subdirectories.  By parsing $aurl/?aflowlib_entries (containing $aurl/aflowlib_entries_number entries) the user finds further locations to interrogate.\",\"title\":\"aflowlib entry count\",\"format\":\"%s\",\"class\":\"API only\",\"subclass\":\"\",\"type\":\"number\",\"inclusion\":\"conditional\",\"expression\":\"directive\",\"example\":\"aflowlib_entries_number=654\",\"status\":\"production\",\"syntax\":\"$aurl/?aflowlib_entries_number\"},\"aflowlib_version\":{\"__comment__\":[\"\"],\"description\":\"Returns the version of the AFLOW post-processor which generated the entry for the library.\",\"title\":\"aflowlib version\",\"format\":\"%s\",\"class\":\"calculation\",\"subclass\":\"version\",\"type\":\"string\",\"inclusion\":\"optional\",\"expression\":\"declarative\",\"example\":\"aflowlib_version=3.1.103\",\"status\":\"production\",\"syntax\":\"$aurl/?aflowlib_version\"},\"agl_acoustic_debye\":{\"__comment__\":[\"\"],\"description\":\"Returns the acoustic Debye temperature as calculated with AGL.\",\"title\":\"AGL acoustic Debye temperature\",\"format\":\"%s\",\"class\":\"thermodynamics\",\"subclass\":\"\",\"type\":\"number\",\"units\":\"K\",\"inclusion\":\"optional\",\"expression\":\"derivative\",\"verification\":[\"energy_cutoff\",\"kpoints\"],\"example\":\"agl_acoustic_debye=492\",\"status\":\"production\",\"syntax\":\"$aurl/?agl_acoustic_debye\"},\"agl_bulk_modulus_isothermal_300K\":{\"__comment__\":[\"\"],\"description\":\"Returns the isothermal bulk modulus at 300K as calculated with AGL.\",\"title\":\"AGL isothermal bulk modulus 300K\",\"format\":\"%s\",\"class\":\"mechanical\",\"subclass\":\"\",\"type\":\"number\",\"units\":\"GPa\",\"inclusion\":\"optional\",\"expression\":\"derivative\",\"verification\":[\"energy_cutoff\",\"kpoints\"],\"example\":\"agl_bulk_modulus_isothermal_300K=96.6\",\"status\":\"production\",\"syntax\":\"$aurl/?agl_bulk_modulus_isothermal_300K\"},\"agl_bulk_modulus_static_300K\":{\"__comment__\":[\"\"],\"description\":\"Returns the static bulk modulus at 300K as calculated with AGL.\",\"title\":\"AGL static bulk modulus 300K\",\"format\":\"%s\",\"class\":\"mechanical\",\"subclass\":\"\",\"type\":\"number\",\"units\":\"GPa\",\"inclusion\":\"optional\",\"expression\":\"derivative\",\"verification\":[\"energy_cutoff\",\"kpoints\"],\"example\":\"agl_bulk_modulus_static_300K=99.6\",\"status\":\"production\",\"syntax\":\"$aurl/?agl_bulk_modulus_static_300K\"},\"agl_debye\":{\"__comment__\":[\"\"],\"description\":\"Returns the Debye temperature as calculated with AGL.\",\"title\":\"AGL Debye temperature\",\"format\":\"%s\",\"class\":\"thermodynamics\",\"subclass\":\"\",\"type\":\"number\",\"units\":\"K\",\"inclusion\":\"optional\",\"expression\":\"derivative\",\"verification\":[\"energy_cutoff\",\"kpoints\"],\"example\":\"agl_debye=620\",\"status\":\"production\",\"syntax\":\"$aurl/?agl_debye\"},\"agl_gruneisen\":{\"__comment__\":[\"\"],\"description\":\"Returns the Gruneisen parameter as calculated with AGL.\",\"title\":\"AGL Gruneisen parameter\",\"format\":\"%s\",\"class\":\"thermodynamics\",\"subclass\":\"\",\"type\":\"number\",\"inclusion\":\"optional\",\"expression\":\"derivative\",\"verification\":[\"energy_cutoff\",\"kpoints\"],\"example\":\"agl_gruneisen=2.06\",\"status\":\"production\",\"syntax\":\"$aurl/?agl_gruneisen\"},\"agl_heat_capacity_Cp_300K\":{\"__comment__\":[\"\"],\"description\":\"Returns the heat capacity at constant pressure as calculated with AGL at 300K.\",\"title\":\"AGL heat capacity Cp\",\"format\":\"%s\",\"class\":\"thermodynamics\",\"subclass\":\"\",\"type\":\"number\",\"units\":\"kB/cell\",\"inclusion\":\"optional\",\"expression\":\"derivative\",\"verification\":[\"energy_cutoff\",\"kpoints\"],\"example\":\"agl_heat_capacity_Cp_300K=5.502\",\"status\":\"production\",\"syntax\":\"$aurl/?agl_heat_capacity_Cp_300K\"},\"agl_heat_capacity_Cv_300K\":{\"__comment__\":[\"\"],\"description\":\"Returns the heat capacity at constant volume as calculated with AGL at 300K.\",\"title\":\"AGL heat capacity Cv\",\"format\":\"%s\",\"class\":\"thermodynamics\",\"subclass\":\"\",\"type\":\"number\",\"units\":\"kB/cell\",\"inclusion\":\"optional\",\"expression\":\"derivative\",\"verification\":[\"energy_cutoff\",\"kpoints\"],\"example\":\"agl_heat_capacity_Cv_300K=4.901\",\"status\":\"production\",\"syntax\":\"$aurl/?agl_heat_capacity_Cv_300K\"},\"agl_thermal_conductivity_300K\":{\"__comment__\":[\"\"],\"description\":\"Returns the thermal conductivity as calculated with AGL at 300K.\",\"title\":\"AGL thermal conductivity\",\"format\":\"%s\",\"class\":\"thermodynamics\",\"subclass\":\"\",\"type\":\"number\",\"units\":\"W/m*K\",\"inclusion\":\"optional\",\"expression\":\"derivative\",\"verification\":[\"energy_cutoff\",\"kpoints\"],\"example\":\"agl_thermal_conductivity_300K=24.41\",\"status\":\"production\",\"syntax\":\"$aurl/?agl_thermal_conductivity_300K\"},\"agl_thermal_expansion_300K\":{\"__comment__\":[\"\"],\"description\":\"Returns the thermal expansion as calculated with AGL at 300K.\",\"title\":\"AGL thermal expansion\",\"format\":\"%s\",\"class\":\"thermodynamics\",\"subclass\":\"\",\"type\":\"number\",\"units\":\"1/K\",\"inclusion\":\"optional\",\"expression\":\"derivative\",\"verification\":[\"energy_cutoff\",\"kpoints\"],\"example\":\"agl_thermal_expansion_300K=4.997e-05\",\"status\":\"production\",\"syntax\":\"$aurl/?agl_thermal_expansion_300K\"},\"auid\":{\"__comment__\":[\"\"],\"description\":\"AFLOWLIB Unique Identifier for the entry, AUID, which can be used as a publishable object identifier.\",\"title\":\"AFLOWLIB Unique Identifier\",\"format\":\"%s\",\"class\":\"calculation\",\"subclass\":\"\",\"type\":\"string\",\"inclusion\":\"mandatory\",\"expression\":\"declarative\",\"example\":\"auid=aflow:e9c6d914c4b8d9ca\",\"status\":\"production\",\"syntax\":\"$aurl/?auid\"},\"aurl\":{\"__comment__\":[\"\"],\"description\":\"AFLOWLIB Uniform Resource Locator returns the AURL of the entry.\",\"title\":\"AFLOWLIB Uniform Resource Locator\",\"format\":\"%s\",\"class\":\"calculation\",\"subclass\":\"\",\"type\":\"string\",\"inclusion\":\"mandatory\",\"expression\":\"declarative\",\"example\":\"aurl=aflowlib.duke.edu:AFLOWDATA/LIB3_RAW/Bi_dRh_pvTi_sv/T0003.ABC:LDAU2\",\"status\":\"production\",\"syntax\":\"$aurl/?aurl\"},\"author\":{\"__comment__\":[\"\"],\"description\":\"Returns the name (not necessarily an individual) and affiliation associated with authorship of the data.\",\"title\":\"author\",\"format\":\"%s\",\"class\":\"calculation\",\"subclass\":\"provenance\",\"type\":\"strings\",\"delimiter\":\",\",\"inclusion\":\"optional\",\"expression\":\"declarative\",\"example\":\"author=Marco_Buongiorno_Nardelli,Ohad_Levy,Jesus_Carrete\",\"status\":\"development\",\"syntax\":\"$aurl/?author\"},\"bader_atomic_volumes\":{\"__comment__\":[\"\"],\"description\":\"Returns the volume of each atom of the primitive cell as calculated by the Bader Atoms in Molecules Analysis. This volume encapsulates the electron density associated with each atom above a threshold of 0.0001 electrons.\",\"title\":\"atomic volume per atom\",\"format\":\"%s\",\"class\":\"chemistry\",\"subclass\":\"\",\"type\":\"numbers\",\"delimiter\":\",\",\"units\":\"&Aring;<sup>3</sup>\",\"inclusion\":\"optional\",\"expression\":\"derivative\",\"verification\":[\"energy_cutoff\",\"kpoints\"],\"example\":\"bader_atomic_volumes=15.235,12.581,13.009\",\"status\":\"production\",\"syntax\":\"$aurl/?bader_atomic_volumes\"},\"bader_net_charges\":{\"__comment__\":[\"\"],\"description\":\"Returns a comma delimited set of partial charges per atom of the primitive cell as calculated by the Bader Atoms in Molecules Analysis.\",\"title\":\"partial charge per atom\",\"format\":\"%s\",\"class\":\"chemistry\",\"subclass\":\"\",\"type\":\"numbers\",\"delimiter\":\",\",\"units\":\"electrons\",\"inclusion\":\"optional\",\"expression\":\"derivative\",\"verification\":[\"energy_cutoff\",\"kpoints\"],\"example\":\"bader_net_charges=0.125,0.125,-0.25\",\"status\":\"production\",\"syntax\":\"$aurl/?bader_net_charges\"},\"calculation_cores\":{\"__comment__\":[\"\"],\"description\":\"Number of processors/cores used for the calculation.\",\"title\":\"used CPU cores\",\"format\":\"%s\",\"class\":\"calculation\",\"subclass\":\"computational resources\",\"type\":\"number\",\"inclusion\":\"optional\",\"expression\":\"derivative\",\"verification\":[\"energy_cutoff\",\"kpoints\"],\"example\":\"calculation_cores=32\",\"status\":\"production\",\"syntax\":\"$aurl/?calculation_cores\"},\"calculation_memory\":{\"__comment__\":[\"\"],\"description\":\"The maximum memory used for the calculation.\",\"title\":\"used RAM\",\"format\":\"%s\",\"class\":\"calculation\",\"subclass\":\"computational resources\",\"type\":\"number\",\"units\":\"Megabytes\",\"inclusion\":\"optional\",\"expression\":\"derivative\",\"verification\":[\"energy_cutoff\",\"kpoints\"],\"example\":\"calculation_memory=32\",\"status\":\"production\",\"syntax\":\"$aurl/?calculation_memory\"},\"calculation_time\":{\"__comment__\":[\"\"],\"description\":\"Total time taken for the calculation.\",\"title\":\"used time\",\"format\":\"%s\",\"class\":\"calculation\",\"subclass\":\"computational resources\",\"type\":\"number\",\"units\":\"seconds\",\"inclusion\":\"optional\",\"expression\":\"derivative\",\"verification\":[\"energy_cutoff\",\"kpoints\"],\"example\":\"calculation_time=32\",\"status\":\"production\",\"syntax\":\"$aurl/?calculation_time\"},\"catalog\":{\"__comment__\":[\"\"],\"description\":\"Returns the context set for the calculation.\",\"title\":\"catalog\",\"format\":\"%s\",\"class\":\"calculation\",\"subclass\":\"version\",\"type\":\"string\",\"inclusion\":\"optional\",\"expression\":\"declarative\",\"example\":\"catalog=icsd\",\"status\":\"production\",\"syntax\":\"$aurl/?catalog\"},\"code\":{\"__comment__\":[\"\"],\"description\":\"Returns the software name and version used to perform the simulation.\",\"title\":\"ab initio code\",\"format\":\"%s\",\"class\":\"calculation\",\"subclass\":\"version\",\"type\":\"string\",\"inclusion\":\"optional\",\"expression\":\"declarative\",\"example\":\"code=vasp.4.6.35\",\"status\":\"production\",\"syntax\":\"$aurl/?code\"},\"composition\":{\"__comment__\":[\"\"],\"description\":\"Returns a comma delimited composition description of the structure entry in the calculated cell.\",\"title\":\"composition\",\"format\":\"%s\",\"class\":\"chemistry\",\"subclass\":\"\",\"type\":\"numbers\",\"delimiter\":\",\",\"inclusion\":\"optional\",\"expression\":\"declarative\",\"example\":\"composition=2,6,6\",\"status\":\"production\",\"syntax\":\"$aurl/?composition\"},\"compound\":{\"__comment__\":[\"\"],\"description\":\"Returns the composition description of the compound in the calculated cell.\",\"title\":\"chemical formula\",\"format\":\"%s\",\"class\":\"chemistry\",\"subclass\":\"\",\"type\":\"string\",\"inclusion\":\"mandatory\",\"expression\":\"declarative\",\"example\":\"compound=Co2Er6Si6\",\"status\":\"production\",\"syntax\":\"$aurl/?compound\"},\"corresponding\":{\"__comment__\":[\"\"],\"description\":\"Returns the name (not necessarily an individual) and affiliation associated with the data origin concerning correspondence about data.\",\"title\":\"coresponding\",\"format\":\"%s\",\"class\":\"calculation\",\"subclass\":\"provenance\",\"type\":\"strings\",\"delimiter\":\",\",\"inclusion\":\"optional\",\"expression\":\"declarative\",\"example\":\"corresponding=M_Buongiorno_Nardelli_mbn@unt.edu\",\"status\":\"development\",\"syntax\":\"$aurl/?corresponding\"},\"data_api\":{\"__comment__\":[\"\"],\"description\":\"AFLOWLIB version of the entry, API.}\",\"title\":\"REST API version\",\"format\":\"%s\",\"class\":\"API only\",\"subclass\":\"\",\"type\":\"string\",\"inclusion\":\"mandatory\",\"expression\":\"declarative\",\"example\":\"data_api=aapi1.0\",\"status\":\"production\",\"syntax\":\"$aurl/?data_api\"},\"data_language\":{\"__comment__\":[\"\"],\"description\":\"Gives the language of the data in AFLOWLIB.\",\"title\":\"data language\",\"format\":\"%s\",\"class\":\"calculation\",\"subclass\":\"version\",\"type\":\"strings\",\"delimiter\":\",\",\"inclusion\":\"optional\",\"expression\":\"declarative\",\"example\":\"data_language=aflowlib\",\"status\":\"production\",\"syntax\":\"$aurl/?data_language\"},\"data_source\":{\"__comment__\":[\"\"],\"description\":\"Gives the source of the data in AFLOWLIB.\",\"title\":\"data source\",\"format\":\"%s\",\"class\":\"calculation\",\"subclass\":\"version\",\"type\":\"strings\",\"delimiter\":\",\",\"inclusion\":\"optional\",\"expression\":\"declarative\",\"example\":\"data_source=aflowlib\",\"status\":\"production\",\"syntax\":\"$aurl/?data_source\"},\"delta_electronic_energy_convergence\":{\"__comment__\":[\"\"],\"description\":\"Returns the change in energy from the last step of the convergence iteration.\",\"title\":\"Electronic Energy of Convergence Step\",\"format\":\"%s\",\"class\":\"calculation\",\"subclass\":\"\",\"type\":\"number\",\"inclusion\":\"optional\",\"expression\":\"derivative\",\"example\":\"delta_electronic_energy_convergence=6.09588e-05\",\"status\":\"development\",\"syntax\":\"$aurl/?delta_electronic_energy_convergence\"},\"delta_electronic_energy_threshold\":{\"__comment__\":[\"\"],\"description\":\"Returns the maximimum change in energy required for the convergence iteration.\",\"title\":\"Electronic Energy of Convergence Threshold\",\"format\":\"%s\",\"class\":\"calculation\",\"subclass\":\"\",\"type\":\"number\",\"inclusion\":\"optional\",\"expression\":\"declarative\",\"example\":\"delta_electronic_energy_threshold=0.0001\",\"status\":\"development\",\"syntax\":\"$aurl/?delta_electronic_energy_threshold\"},\"density\":{\"__comment__\":[\"\"],\"description\":\"Returns the mass density in grams/cm3.\",\"title\":\"mass density\",\"format\":\"%s\",\"class\":\"chemistry\",\"subclass\":\"real space lattice\",\"type\":\"number\",\"units\":\"grams/cm<sup>3</sup>\",\"inclusion\":\"optional\",\"expression\":\"derivative\",\"verification\":[\"energy_cutoff\",\"kpoints\",\"pressure_residual\",\"stress_tensor\"],\"example\":\"density=7.76665\",\"status\":\"production\",\"syntax\":\"$aurl/?density\"},\"dft_type\":{\"__comment__\":[\"\"],\"description\":\"Returns information about the pseudopotential type, the exchange correlation functional used (normal or hybrid) and use of GW.\",\"title\":\"DFT type\",\"format\":\"%s\",\"class\":\"chemistry\",\"subclass\":\"parameters\",\"type\":\"strings\",\"delimiter\":\",\",\"inclusion\":\"optional\",\"expression\":\"declarative\",\"example\":\"dft_type=PAW_PBE,HSE06\",\"status\":\"production\",\"syntax\":\"$aurl/?dft_type\"},\"eentropy_atom\":{\"__comment__\":[\"\"],\"description\":\"Returns the electronic entropy of the atom used to converge the ab initio calculation (smearing).\",\"title\":\"atomistic electronic entropy\",\"format\":\"%s\",\"class\":\"thermodynamics\",\"subclass\":\"\",\"type\":\"number\",\"units\":\"eV/atom\",\"inclusion\":\"optional\",\"expression\":\"derivative\",\"verification\":[\"energy_cutoff\",\"kpoints\"],\"example\":\"eentropy_atom=0.0011\",\"status\":\"production\",\"syntax\":\"$aurl/?eentropy_atom\"},\"eentropy_cell\":{\"__comment__\":[\"\"],\"description\":\"Returns the electronic entropy of the unit cell used to converge the ab initio calculation (smearing).\",\"title\":\"unit cell electronic entropy\",\"format\":\"%s\",\"class\":\"thermodynamics\",\"subclass\":\"\",\"type\":\"number\",\"units\":\"eV/atom\",\"inclusion\":\"optional\",\"expression\":\"derivative\",\"verification\":[\"energy_cutoff\",\"kpoints\"],\"example\":\"eentropy_cell=0.0011\",\"status\":\"production\",\"syntax\":\"$aurl/?eentropy_cell\"},\"energy_atom\":{\"__comment__\":[\"\"],\"description\":\"Returns the total ab initio energy per atom- the value of energy_cell/$N$).\",\"title\":\"atomic energy\",\"format\":\"%s\",\"class\":\"thermodynamics\",\"subclass\":\"\",\"type\":\"number\",\"units\":\"eV/atom\",\"inclusion\":\"mandatory\",\"expression\":\"derivative\",\"verification\":[\"energy_cutoff\",\"kpoints\",\"pressure_residual\",\"stress_tensor\"],\"example\":\"energy_atom=-82.1656\",\"status\":\"production\",\"syntax\":\"$aurl/?energy_atom\"},\"energy_cell\":{\"__comment__\":[\"\"],\"description\":\"Returns the total ab initio energy of the unit cell, E. At T=0K and p=0, this is the internal energy of the system (per unit cell).\",\"title\":\"unit cell energy\",\"format\":\"%s\",\"class\":\"thermodynamics\",\"subclass\":\"\",\"type\":\"number\",\"units\":\"eV\",\"inclusion\":\"mandatory\",\"expression\":\"derivative\",\"verification\":[\"energy_cutoff\",\"kpoints\",\"pressure_residual\",\"stress_tensor\"],\"example\":\"energy_cell=-82.1656\",\"status\":\"production\",\"syntax\":\"$aurl/?energy_cell\"},\"energy_cutoff\":{\"__comment__\":[\"\"],\"description\":\"Set of energy cut-offs used during the various steps of the calculations.\",\"title\":\"energy cutoff\",\"format\":\"%s\",\"class\":\"calculation\",\"subclass\":\"parameters\",\"type\":\"numbers\",\"delimiter\":\",\",\"units\":\"eV\",\"inclusion\":\"optional\",\"expression\":\"declarative\",\"example\":\"energy_cutoff=384.1,384.1,384.1\",\"status\":\"production\",\"syntax\":\"$aurl/?energy_cutoff\"},\"enthalpy_atom\":{\"__comment__\":[\"\"],\"description\":\"Returns the enthalpy per atom- the value of enthalpy_cell/N).\",\"title\":\"atomic enthalpy\",\"format\":\"%s\",\"class\":\"thermodynamics\",\"subclass\":\"\",\"type\":\"number\",\"units\":\"eV/atom\",\"inclusion\":\"mandatory\",\"expression\":\"derivative\",\"verification\":[\"energy_cutoff\",\"kpoints\",\"pressure_residual\",\"stress_tensor\"],\"example\":\"enthalpy_atom=-82.1656\",\"status\":\"production\",\"syntax\":\"$aurl/?enthalpy_atom\"},\"enthalpy_cell\":{\"__comment__\":[\"\"],\"description\":\"Returns the enthalpy of the system of the unit cell, H = E + PV.\",\"title\":\"unit cell enthalpy\",\"format\":\"%s\",\"class\":\"thermodynamics\",\"subclass\":\"\",\"type\":\"number\",\"units\":\"eV\",\"inclusion\":\"mandatory\",\"expression\":\"derivative\",\"verification\":[\"energy_cutoff\",\"kpoints\",\"pressure_residual\",\"stress_tensor\"],\"example\":\"enthalpy_cell=-82.1656\",\"status\":\"production\",\"syntax\":\"$aurl/?enthalpy_cell\"},\"enthalpy_formation_atom\":{\"__comment__\":[\"\"],\"description\":\"Returns the formation enthalpy DeltaHFatomic per atom).\",\"title\":\"atomic formation enthalpy\",\"format\":\"%s\",\"class\":\"thermodynamics\",\"subclass\":\"\",\"type\":\"number\",\"units\":\"eV/atom\",\"inclusion\":\"mandatory\",\"expression\":\"derivative\",\"verification\":[\"energy_cutoff\",\"kpoints\"],\"example\":\"enthalpy_formation_atom=-33.1587\",\"status\":\"production\",\"syntax\":\"$aurl/?enthalpy_formation_atom\"},\"enthalpy_formation_cell\":{\"__comment__\":[\"\"],\"description\":\"Returns the formation enthalpy DeltaHF per unit cell.\",\"title\":\"unit cell formation enthalpy\",\"format\":\"%s\",\"class\":\"thermodynamics\",\"subclass\":\"\",\"type\":\"number\",\"units\":\"eV\",\"inclusion\":\"mandatory\",\"expression\":\"derivative\",\"verification\":[\"energy_cutoff\",\"kpoints\"],\"example\":\"enthalpy_formation_cell=-33.1587\",\"status\":\"production\",\"syntax\":\"$aurl/?enthalpy_formation_cell\"},\"entropic_temperature\":{\"__comment__\":[\"\"],\"description\":\"Returns the entropic temperature for the structure.\",\"title\":\"entropic temperature\",\"format\":\"%s\",\"class\":\"thermodynamics\",\"subclass\":\"\",\"type\":\"number\",\"units\":\"Kelvin\",\"inclusion\":\"mandatory\",\"expression\":\"derivative\",\"verification\":[\"energy_cutoff\",\"kpoints\"],\"example\":\"entropic_temperature=1072.1\",\"status\":\"production\",\"syntax\":\"$aurl/?entropic_temperature\"},\"files\":{\"__comment__\":[\"\"],\"description\":\"Provides access to the input and output files used in the simulation (provenance data).\",\"title\":\"I/O files\",\"format\":\"%s\",\"class\":\"calculation\",\"subclass\":\"\",\"type\":\"strings\",\"delimiter\":\",\",\"inclusion\":\"conditional\",\"expression\":\"directive\",\"example\":\"files=Bi_dRh_pv.33.cif,Bi_dRh_pv.33.png,CONTCAR.relax,CONTCAR.relax1,\",\"status\":\"production\",\"syntax\":\"$aurl/?files\"},\"forces\":{\"__comment__\":[\"\"],\"description\":\"Final quantum mechanical forces (Fi,Fj,Fk) in the notation of the code.\",\"title\":\"Quantum Forces\",\"format\":\"%s\",\"class\":\"mechanical\",\"subclass\":\"\",\"type\":\"numbers\",\"delimiter\":\";,\",\"units\":\"eV/&Aring;\",\"inclusion\":\"optional\",\"expression\":\"derivative\",\"verification\":[\"energy_cutoff\",\"kpoints\"],\"example\":\"forces=0,-0.023928,0.000197;0,0.023928,-0.000197;...\",\"status\":\"development\",\"syntax\":\"$aurl/?forces\"},\"geometry\":{\"__comment__\":[\"\"],\"description\":\"Returns geometrical data describing the unit cell in the usual a,b,c,alpha,beta,gamma notation.\",\"title\":\"unit cell basis\",\"format\":\"%s\",\"class\":\"chemistry\",\"subclass\":\"real space lattice\",\"type\":\"numbers\",\"delimiter\":\",\",\"units\":\"&Aring;\",\"inclusion\":\"mandatory\",\"expression\":\"declarative\",\"example\":\"geometry=18.82,18.82,18.82,32.41,32.41,32.41\",\"status\":\"production\",\"verification\":[\"energy_cutoff\",\"kpoints\",\"pressure_residual\",\"stress_tensor\"],\"syntax\":\"$aurl/?geometry\"},\"keywords\":{\"__comment__\":[\"\"],\"description\":\"This includes the list of keywords available in the entry, separated by commas.\",\"title\":\"Title\",\"format\":\"%s\",\"class\":\"API only\",\"subclass\":\"\",\"type\":\"strings\",\"delimiter\":\",\",\"inclusion\":\"mandatory\",\"expression\":\"directive\",\"example\":\"keywords=aurl,auid,loop,code,compound,prototype,nspecies,natoms,...\",\"status\":\"production\",\"syntax\":\"$aurl/?keywords\"},\"kpoints\":{\"__comment__\":[\"\"],\"description\":\"Set of k-point meshes uniquely identifying the various steps of the calculations, e.g. relaxation, static and electronic band structure (specifying the k-space symmetry points of the structure).\",\"title\":\"K-point mesh\",\"format\":\"%s\",\"class\":\"calculation\",\"subclass\":\"parameters\",\"type\":\"numbers\",\"delimiter\":\":,\",\"inclusion\":\"optional\",\"expression\":\"declarative\",\"example\":\"kpoints=10,10,10;16,16,16;G-X-W-K-G-L-U-W-L-K+U-X\",\"status\":\"production\",\"syntax\":\"$aurl/?kpoints\"},\"lattice_system_orig\":{\"__comment__\":[\"\"],\"description\":\"Return the lattice system and lattice variation (Brillouin zone) of the original-unrelaxed structure before the calculation.\",\"title\":\"original lattice system\",\"format\":\"%s\",\"class\":\"crystal\",\"subclass\":\"bravais lattice of the crystal\",\"type\":\"string\",\"inclusion\":\"mandatory\",\"expression\":\"declarative\",\"example\":\"lattice_system_orig=rhombohedral\",\"status\":\"production\",\"syntax\":\"$aurl/?lattice_system_orig\"},\"lattice_system_relax\":{\"__comment__\":[\"\"],\"description\":\"Return the lattice system and lattice variation (Brillouin zone) of the relaxed structure after the calculation.\",\"title\":\"relaxed lattice system\",\"format\":\"%s\",\"class\":\"crystal\",\"subclass\":\"bravais lattice of the crystal\",\"type\":\"string\",\"inclusion\":\"mandatory\",\"expression\":\"derivative\",\"verification\":[\"energy_cutoff\",\"forces\",\"kpoints\",\"stress_tensor\"],\"example\":\"lattice_system_relax=rhombohedral\",\"status\":\"production\",\"syntax\":\"$aurl/?lattice_system_relax\"},\"lattice_variation_orig\":{\"__comment__\":[\"\"],\"description\":\"Return the lattice system and lattice variation (Brillouin zone) of the original-unrelaxed structure before the calculation.\",\"title\":\"original lattice variation\",\"format\":\"%s\",\"class\":\"crystal\",\"subclass\":\"bravais lattice of the crystal\",\"type\":\"string\",\"inclusion\":\"mandatory\",\"expression\":\"declarative\",\"example\":\"lattice_variation_orig=rhombohedral\",\"status\":\"production\",\"syntax\":\"$aurl/?lattice_variation_orig\"},\"lattice_variation_relax\":{\"__comment__\":[\"\"],\"description\":\"Return the lattice system and lattice variation (Brillouin zone) of the relaxed structure after the calculation.\",\"title\":\"relaxed lattice variation\",\"format\":\"%s\",\"class\":\"crystal\",\"subclass\":\"bravais lattice of the crystal\",\"type\":\"string\",\"inclusion\":\"mandatory\",\"expression\":\"derivative\",\"verification\":[\"energy_cutoff\",\"forces\",\"kpoints\",\"stress_tensor\"],\"example\":\"lattice_variation_relax=rhombohedral\",\"status\":\"production\",\"syntax\":\"$aurl/?lattice_variation_relax\"},\"ldau_TLUJ\":{\"__comment__\":[\"\"],\"description\":\"This vector of numbers contains the parameters of the DFT+U calculations, based on a corrective functional inspired by the Hubbard model.\",\"title\":\"on site coulomb interaction\",\"format\":\"%s\",\"class\":\"chemistry\",\"subclass\":\"parameters\",\"type\":\"numbers\",\"delimiter\":\";,\",\"inclusion\":\"mandatory\",\"expression\":\"declarative\",\"example\":\"ldau_TLUJ=2;2,0,0;5,0,0;0,0,0\",\"status\":\"development\",\"syntax\":\"$aurl/?ldau_TLUJ\"},\"loop\":{\"__comment__\":[\"\"],\"description\":\"Informs the user of the type of post-processing that was performed.\",\"title\":\"process category\",\"format\":\"%s\",\"class\":\"calculation\",\"subclass\":\"parameters\",\"type\":\"strings\",\"delimiter\":\",\",\"inclusion\":\"optional\",\"expression\":\"directive\",\"example\":\"loop=thermodynamics,bands,magnetic\",\"status\":\"production\",\"syntax\":\"$aurl/?loop\"},\"natoms\":{\"__comment__\":[\"\"],\"description\":\"Returns the number of atoms in the unit cell of the structure entry. The number can be non integer if partial occupation is considered within appropriate approximations.\",\"title\":\"unit cell atom count\",\"format\":\"%s\",\"class\":\"crystal\",\"subclass\":\"real space lattice\",\"type\":\"number\",\"inclusion\":\"mandatory\",\"expression\":\"declarative\",\"example\":\"natoms=12\",\"status\":\"production\",\"syntax\":\"$aurl/?natoms\"},\"nbondxx\":{\"__comment__\":[\"\"],\"description\":\"Nearest neighbors bond lengths of the relaxed structure per ordered set of species Ai,Aj greater than or equal to i.\",\"title\":\"Nearest neighbors bond lengths\",\"format\":\"%s\",\"class\":\"crystal\",\"subclass\":\"\",\"type\":\"numbers\",\"delimiter\":\",\",\"units\":\"&Aring;\",\"inclusion\":\"optional\",\"expression\":\"derivative\",\"verification\":[\"energy_cutoff\",\"forces\",\"kpoints\",\"pressure_residual\",\"stress_tensor\"],\"example\":\"nbondxx=1.2599,1.0911,1.0911,1.7818,1.2599,1.7818\",\"status\":\"production\",\"syntax\":\"$aurl/?nbondxx\"},\"node_CPU_Cores\":{\"__comment__\":[\"\"],\"description\":\"Information about the number of cores in the node/cluster where the calculation was performed.\",\"title\":\"available CPU cores\",\"format\":\"%s\",\"class\":\"calculation\",\"subclass\":\"computational resources\",\"type\":\"number\",\"inclusion\":\"optional\",\"expression\":\"declarative\",\"example\":\"node_CPU_Cores=12\",\"status\":\"production\",\"syntax\":\"$aurl/?node_CPU_Cores\"},\"node_CPU_MHz\":{\"__comment__\":[\"\"],\"description\":\"Information about the CPU speed in the node/cluster where the calculation was performed.\",\"title\":\"CPU rate\",\"format\":\"%s\",\"class\":\"calculation\",\"subclass\":\"computational resources\",\"type\":\"number\",\"units\":\"Megahertz\",\"inclusion\":\"optional\",\"expression\":\"declarative\",\"example\":\"node_CPU_MHz=12\",\"status\":\"production\",\"syntax\":\"$aurl/?node_CPU_MHz\"},\"node_CPU_Model\":{\"__comment__\":[\"\"],\"description\":\"Information about the CPU model in the node/cluster where the calculation was performed.\",\"title\":\"CPU model\",\"format\":\"%s\",\"class\":\"calculation\",\"subclass\":\"computational resources\",\"type\":\"string\",\"inclusion\":\"optional\",\"expression\":\"declarative\",\"example\":\"node_CPU_Model=12\",\"status\":\"production\",\"syntax\":\"$aurl/?node_CPU_Model\"},\"node_RAM_GB\":{\"__comment__\":[\"\"],\"description\":\"Information about the RAM in the node/cluster where the calculation was performed.\",\"title\":\"available RAM\",\"format\":\"%s\",\"class\":\"calculation\",\"subclass\":\"\",\"type\":\"number\",\"units\":\"Gigabytes\",\"inclusion\":\"optional\",\"expression\":\"declarative\",\"example\":\"node_RAM_GB=12\",\"status\":\"production\",\"syntax\":\"$aurl/?node_RAM_GB\"},\"nspecies\":{\"__comment__\":[\"\"],\"description\":\"Returns the number of species in the system (e.g., binary = 2, ternary = 3, etc.).\",\"title\":\"species count\",\"format\":\"%s\",\"class\":\"chemistry\",\"subclass\":\"\",\"type\":\"number\",\"inclusion\":\"mandatory\",\"expression\":\"declarative\",\"example\":\"nspecies=3\",\"status\":\"production\",\"syntax\":\"$aurl/?nspecies\"},\"positions_cartesian\":{\"__comment__\":[\"\"],\"description\":\"Final Cartesian positions (xi,xj,xk) in the notation of the code.\",\"title\":\"relaxed absolute positions\",\"format\":\"%s\",\"class\":\"other\",\"subclass\":\"bravais lattice of the crystal\",\"type\":\"numbers\",\"delimiter\":\";,\",\"units\":\"&Aring;\",\"inclusion\":\"mandatory\",\"expression\":\"derivative\",\"verification\":[\"energy_cutoff\",\"forces\",\"kpoints\",\"pressure_residual\",\"stress_tensor\"],\"example\":\"positions_cartesian=0,0,0;18.18438,0,2.85027;...\",\"status\":\"development\",\"syntax\":\"$aurl/?positions_cartesian\"},\"positions_fractional\":{\"__comment__\":[\"\"],\"description\":\"Final fractional positions (xi,xj,xk) with respect to the unit cell as specified in $geometry.\",\"title\":\"relaxed relative positions\",\"format\":\"%s\",\"class\":\"other\",\"subclass\":\"\",\"type\":\"numbers\",\"inclusion\":\"mandatory\",\"expression\":\"derivative\",\"verification\":[\"energy_cutoff\",\"forces\",\"kpoints\",\"pressure_residual\",\"stress_tensor\"],\"example\":\"positions_fractional=0,0,0;0.25,0.25,0.25;...\",\"status\":\"development\",\"syntax\":\"$aurl/?positions_fractional\"},\"pressure\":{\"__comment__\":[\"\"],\"description\":\"Returns the target pressure selected for the simulation.\",\"title\":\"external pressure\",\"format\":\"%s\",\"class\":\"mechanical\",\"subclass\":\"\",\"type\":\"number\",\"units\":\"kbar\",\"inclusion\":\"mandatory\",\"expression\":\"declarative\",\"example\":\"pressure=10.0\",\"status\":\"production\",\"syntax\":\"$aurl/?pressure\"},\"pressure_final\":{\"__comment__\":[\"\"],\"description\":\"Returns the external pressure achieved by the simulation.\",\"title\":\"resulting pressure\",\"format\":\"%s\",\"class\":\"mechanical\",\"subclass\":\"\",\"type\":\"number\",\"units\":\"kbar\",\"inclusion\":\"mandatory\",\"expression\":\"derivative\",\"example\":\"pressure_final=10.0\",\"status\":\"development\",\"syntax\":\"$aurl/?pressure_final\"},\"pressure_residual\":{\"__comment__\":[\"\"],\"description\":\"Returns the external pressure achieved by the simulation.\",\"title\":\"residual pressure\",\"format\":\"%s\",\"class\":\"mechanical\",\"subclass\":\"\",\"type\":\"number\",\"units\":\"kbar\",\"inclusion\":\"mandatory\",\"expression\":\"derivative\",\"example\":\"pressure_residual=10.0\",\"status\":\"development\",\"syntax\":\"$aurl/?pressure_residual\"},\"prototype\":{\"__comment__\":[\"\"],\"description\":\"Returns the AFLOW unrelaxed prototype which was used for the calculation.\",\"title\":\"original prototype\",\"format\":\"%s\",\"class\":\"crystal\",\"subclass\":\"label\",\"type\":\"string\",\"inclusion\":\"mandatory\",\"expression\":\"declarative\",\"example\":\"prototype=T0001.A2BC\",\"status\":\"production\",\"syntax\":\"$aurl/?prototype\"},\"scintillation_attenuation_length\":{\"__comment__\":[\"\"],\"description\":\"Returns the scintillation attenuation length of the compound in cm.\",\"title\":\"attenuation length\",\"format\":\"%s\",\"class\":\"scintillation\",\"subclass\":\"\",\"type\":\"number\",\"units\":\"cm\",\"inclusion\":\"mandatory\",\"expression\":\"derivative\",\"verification\":[\"energy_cutoff\",\"kpoints\"],\"example\":\"scintillation_attenuation_length=2.21895\",\"status\":\"production\",\"syntax\":\"$aurl/?scintillation_attenuation_length\"},\"sg\":{\"__comment__\":[\"\"],\"description\":\"Evolution of the space group of the compound.  The first, second and third string represent space group name/number before the first, after the first, and after the last relaxation of the calculation.\",\"title\":\"compound space group\",\"format\":\"%s\",\"class\":\"crystal\",\"subclass\":\"space group\",\"type\":\"strings\",\"delimiter\":\",\",\"inclusion\":\"mandatory\",\"expression\":\"directive\",\"verification\":[\"energy_cutoff\",\"forces\",\"kpoints\",\"stress_tensor\"],\"example\":\"sg=Fm-3m#225,Fm-3m#225,Fm-3m#225\",\"status\":\"production\",\"syntax\":\"$aurl/?sg\"},\"sg2\":{\"__comment__\":[\"\"],\"description\":\"Evolution of the space group of the compound.  The first, second and third string represent space group name/number before the first, after the first, and after the last relaxation of the calculation.\",\"title\":\"refined compound space group\",\"format\":\"%s\",\"class\":\"crystal\",\"subclass\":\"space group\",\"type\":\"strings\",\"delimiter\":\",\",\"inclusion\":\"mandatory\",\"expression\":\"directive\",\"verification\":[\"energy_cutoff\",\"forces\",\"kpoints\",\"stress_tensor\"],\"example\":\"sg2=Fm-3m#225,Fm-3m#225,Fm-3m#225\",\"status\":\"production\",\"syntax\":\"$aurl/?sg2\"},\"spacegroup_orig\":{\"__comment__\":[\"\"],\"description\":\"Returns the spacegroup number of the original-unrelaxed structure before the calculation.\",\"title\":\"original space group number\",\"format\":\"%s\",\"class\":\"crystal\",\"subclass\":\"bravais lattice of the crystal\",\"type\":\"number\",\"inclusion\":\"mandatory\",\"expression\":\"declarative\",\"example\":\"spacegroup_orig=225\",\"status\":\"production\",\"syntax\":\"$aurl/?spacegroup_orig\"},\"spacegroup_relax\":{\"__comment__\":[\"\"],\"description\":\"Returns the spacegroup number of the relaxed structure after the calculation.\",\"title\":\"relaxed space group number\",\"format\":\"%s\",\"class\":\"crystal\",\"subclass\":\"bravais lattice of the crystal\",\"type\":\"number\",\"inclusion\":\"mandatory\",\"expression\":\"derivative\",\"verification\":[\"energy_cutoff\",\"forces\",\"kpoints\",\"stress_tensor\"],\"example\":\"spacegroup_relax=225\",\"status\":\"production\",\"syntax\":\"$aurl/?spacegroup_relax\"},\"species\":{\"__comment__\":[\"\"],\"description\":\"Species of the atoms in this material.\",\"title\":\"atomic species\",\"format\":\"%s\",\"class\":\"chemistry\",\"subclass\":\"\",\"type\":\"strings\",\"delimiter\":\",\",\"inclusion\":\"mandatory\",\"expression\":\"declarative\",\"example\":\"species=Y,Zn,Zr\",\"status\":\"production\",\"syntax\":\"$aurl/?species\"},\"species_pp\":{\"__comment__\":[\"\"],\"description\":\"Pseudopotentials of the atomic species.\",\"title\":\"species pseudopotential(s)\",\"format\":\"%s\",\"class\":\"chemistry\",\"subclass\":\"\",\"type\":\"strings\",\"delimiter\":\",\",\"inclusion\":\"mandatory\",\"expression\":\"declarative\",\"example\":\"species_pp=Y,Zn,Zr\",\"status\":\"production\",\"syntax\":\"$aurl/?species_pp\"},\"species_pp_ZVAL\":{\"__comment__\":[\"\"],\"description\":\"Returns the number of valence electrons of the atomic species.\",\"title\":\"valence atoms per species\",\"format\":\"%s\",\"class\":\"calculation\",\"subclass\":\"\",\"type\":\"numbers\",\"delimiter\":\",\",\"units\":\"electrons\",\"inclusion\":\"optional\",\"expression\":\"declarative\",\"example\":\"species_pp_ZVAL=3\",\"status\":\"production\",\"syntax\":\"$aurl/?species_pp_ZVAL\"},\"species_pp_version\":{\"__comment__\":[\"\"],\"description\":\"Species of the atoms, pseudopotentials species, and pseudopotential versions.\",\"title\":\"pseudopotential species/version\",\"format\":\"%s\",\"class\":\"chemistry\",\"subclass\":\"\",\"type\":\"strings\",\"delimiter\":\",\",\"inclusion\":\"mandatory\",\"expression\":\"declarative\",\"example\":\"species_pp_version=Y,Zn,Zr\",\"status\":\"production\",\"syntax\":\"$aurl/?species_pp_version\"},\"spinD\":{\"__comment__\":[\"\"],\"description\":\"For spin polarized calculations, the spin decomposition over the atoms of the cell.\",\"title\":\"atomic spin decomposition\",\"format\":\"%s\",\"class\":\"magnetics\",\"subclass\":\"\",\"type\":\"numbers\",\"delimiter\":\",\",\"units\":\"&mu;<sub>B</sub>\",\"inclusion\":\"mandatory\",\"expression\":\"derivative\",\"verification\":[\"energy_cutoff\",\"kpoints\"],\"example\":\"spinD=0.236,0.236,-0.023,1.005\",\"status\":\"production\",\"syntax\":\"$aurl/?spinD\"},\"spinF\":{\"__comment__\":[\"\"],\"description\":\"For spin polarized calculations, the magnetization of the cell at the Fermi level.\",\"title\":\"fermi level spin decomposition\",\"format\":\"%s\",\"class\":\"magnetics\",\"subclass\":\"\",\"type\":\"number\",\"units\":\"&mu;<sub>B</sub>\",\"inclusion\":\"mandatory\",\"expression\":\"derivative\",\"verification\":[\"energy_cutoff\",\"kpoints\"],\"example\":\"spinF=0.410879\",\"status\":\"production\",\"syntax\":\"$aurl/?spinF\"},\"spin_atom\":{\"__comment__\":[\"\"],\"description\":\"For spin polarized calculations, the magnetization per atom.\",\"title\":\"atomic spin polarization\",\"format\":\"%s\",\"class\":\"magnetics\",\"subclass\":\"\",\"type\":\"number\",\"units\":\"&mu;<sub>B</sub>/atom\",\"inclusion\":\"mandatory\",\"expression\":\"derivative\",\"verification\":[\"energy_cutoff\",\"kpoints\"],\"example\":\"spin_atom=2.16419\",\"status\":\"production\",\"syntax\":\"$aurl/?spin_atom\"},\"spin_cell\":{\"__comment__\":[\"\"],\"description\":\"For spin polarized calculations, the total magnetization of the cell.\",\"title\":\"unit cell spin polarization\",\"format\":\"%s\",\"class\":\"magnetics\",\"subclass\":\"\",\"type\":\"number\",\"units\":\"&mu;<sub>B</sub>\",\"inclusion\":\"mandatory\",\"expression\":\"derivative\",\"verification\":[\"energy_cutoff\",\"kpoints\"],\"example\":\"spin_cell=2.16419\",\"status\":\"production\",\"syntax\":\"$aurl/?spin_cell\"},\"sponsor\":{\"__comment__\":[\"\"],\"description\":\"Returns information about funding agencies and other sponsors for the data.\",\"title\":\"sponsor\",\"format\":\"%s\",\"class\":\"calculation\",\"subclass\":\"provenance\",\"type\":\"strings\",\"delimiter\":\",\",\"inclusion\":\"optional\",\"expression\":\"declarative\",\"example\":\"sponsor=DOD_N000141310635,NIST_70NANB12H163\",\"status\":\"development\",\"syntax\":\"$aurl/?sponsor\"},\"stoich\":{\"__comment__\":[\"\"],\"description\":\"Similar to composition, returns a comma delimited stoichiometry description of the structure entry in the calculated cell.\",\"title\":\"unit cell stoichiometry\",\"format\":\"%s\",\"class\":\"chemistry\",\"subclass\":\"\",\"type\":\"numbers\",\"delimiter\":\",\",\"inclusion\":\"optional\",\"expression\":\"derivative\",\"verification\":[\"energy_cutoff\",\"kpoints\"],\"example\":\"stoichiometry=0.5,0.25,0.25\",\"status\":\"deprecated\",\"syntax\":\"$aurl/?stoichiometry\"},\"stoichiometry\":{\"__comment__\":[\"\"],\"description\":\"Similar to composition, returns a comma delimited stoichiometry description of the structure entry in the calculated cell.\",\"title\":\"unit cell stoichiometry\",\"format\":\"%s\",\"class\":\"chemistry\",\"subclass\":\"\",\"type\":\"numbers\",\"delimiter\":\",\",\"inclusion\":\"mandatory\",\"expression\":\"derivative\",\"verification\":[\"energy_cutoff\",\"kpoints\"],\"example\":\"stoichiometry=0.5,0.25,0.25\",\"status\":\"production\",\"syntax\":\"$aurl/?stoichiometry\"},\"stress_tensor\":{\"__comment__\":[\"\"],\"description\":\"Returns the stress tensor of the completed calculation.\",\"title\":\"Stress Tensor\",\"format\":\"%s\",\"class\":\"mechanical\",\"subclass\":\"\",\"type\":\"numbers\",\"inclusion\":\"mandatory\",\"expression\":\"derivative\",\"example\":\"stress_tensor=-0.96,-0,-0,-0,-0.96,-0,-0,-0,-0.96\",\"status\":\"development\",\"syntax\":\"$aurl/?stress_tensor\"},\"valence_cell_iupac\":{\"__comment__\":[\"\"],\"description\":\"Returns IUPAC valence, the maximum number of univalent atoms that may combine with the atoms.\",\"title\":\"unit cell IUPAC valence\",\"format\":\"%s\",\"class\":\"chemistry\",\"subclass\":\"\",\"type\":\"number\",\"inclusion\":\"mandatory\",\"expression\":\"derivative\",\"verification\":[\"energy_cutoff\",\"kpoints\"],\"example\":\"valence_cell_iupac=22\",\"status\":\"production\",\"syntax\":\"$aurl/?valence_cell_iupac\"},\"valence_cell_std\":{\"__comment__\":[\"\"],\"description\":\"Returns standard valence, the maximum number of univalent atoms that may combine with the atoms.\",\"title\":\"unit cell standard valence\",\"format\":\"%s\",\"class\":\"chemistry\",\"subclass\":\"\",\"type\":\"number\",\"inclusion\":\"mandatory\",\"expression\":\"derivative\",\"verification\":[\"energy_cutoff\",\"kpoints\"],\"example\":\"valence_cell_std=22\",\"status\":\"production\",\"syntax\":\"$aurl/?valence_cell_std\"},\"volume_atom\":{\"__comment__\":[\"\"],\"description\":\"Returns the volume per atom in the unit cell.\",\"title\":\"atomic volume\",\"format\":\"%s\",\"class\":\"crystal\",\"subclass\":\"real space lattice\",\"type\":\"number\",\"units\":\"&Aring;<sup>3</sup>/atom\",\"inclusion\":\"mandatory\",\"expression\":\"derivative\",\"verification\":[\"energy_cutoff\",\"forces\",\"kpoints\",\"pressure_residual\",\"stress_tensor\"],\"example\":\"volume_atom=100.984\",\"status\":\"production\",\"syntax\":\"$aurl/?volume_atom\"},\"volume_cell\":{\"__comment__\":[\"\"],\"description\":\"Returns the volume of the unit cell.\",\"title\":\"unit cell volume\",\"format\":\"%s\",\"class\":\"crystal\",\"subclass\":\"real space lattice\",\"type\":\"number\",\"units\":\"&Aring;<sup>3</sup>\",\"inclusion\":\"mandatory\",\"expression\":\"derivative\",\"verification\":[\"energy_cutoff\",\"forces\",\"kpoints\",\"pressure_residual\",\"stress_tensor\"],\"example\":\"volume_cell=100.984\",\"status\":\"production\",\"syntax\":\"$aurl/?volume_cell\"}}\"\"\")"
   ]
  },
  {
   "cell_type": "code",
   "execution_count": null,
   "metadata": {},
   "outputs": [],
   "source": [
    "keys[\"energy_cutoff\"]"
   ]
  },
  {
   "cell_type": "code",
   "execution_count": null,
   "metadata": {
    "collapsed": true
   },
   "outputs": [],
   "source": [
    "from aflow.entries import Entry"
   ]
  },
  {
   "cell_type": "code",
   "execution_count": null,
   "metadata": {},
   "outputs": [],
   "source": [
    "hasattr(Entry, \"Egap\")"
   ]
  },
  {
   "cell_type": "code",
   "execution_count": null,
   "metadata": {
    "collapsed": true
   },
   "outputs": [],
   "source": []
  }
 ],
 "metadata": {
  "kernelspec": {
   "display_name": "Python 3",
   "language": "python",
   "name": "python3"
  },
  "language_info": {
   "codemirror_mode": {
    "name": "ipython",
    "version": 3
   },
   "file_extension": ".py",
   "mimetype": "text/x-python",
   "name": "python",
   "nbconvert_exporter": "python",
   "pygments_lexer": "ipython3",
   "version": "3.5.1"
  }
 },
 "nbformat": 4,
 "nbformat_minor": 1
}
